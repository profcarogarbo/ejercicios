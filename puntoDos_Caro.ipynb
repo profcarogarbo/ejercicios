{
  "metadata": {
    "language_info": {
      "codemirror_mode": {
        "name": "python",
        "version": 3
      },
      "file_extension": ".py",
      "mimetype": "text/x-python",
      "name": "python",
      "nbconvert_exporter": "python",
      "pygments_lexer": "ipython3",
      "version": "3.8"
    },
    "kernelspec": {
      "name": "python",
      "display_name": "Python (Pyodide)",
      "language": "python"
    }
  },
  "nbformat_minor": 4,
  "nbformat": 4,
  "cells": [
    {
      "cell_type": "raw",
      "source": "Respuesta a pregunta examen de ingreso\nExamen para docentes catedra de los cursos computacionales\n 2023-01\n\n\nGithub repository\nhttps://github.com/profcarogarbo/ejercicios/blob/main/notebooks_puntoDos_Caro.ipynb",
      "metadata": {}
    },
    {
      "cell_type": "raw",
      "source": " En este Notebook repasaremos el concepto de de sistemas de ecuaciones lineales, \nde su curso de algebra lineal o de antes\n\nLas ecuaciones ecuaciones que solveremos son las de Newton, para el movimiento\n\n",
      "metadata": {}
    },
    {
      "cell_type": "raw",
      "source": "Movimiento uniformemente Acelerado",
      "metadata": {}
    },
    {
      "cell_type": "raw",
      "source": "Suponga que una particula describe un movimiento descrito por las \necuaciones\n\n$\\frac{dv}{dt}=a(t)$ \n$\\frac{dr}{dt}=v(t)$",
      "metadata": {}
    },
    {
      "cell_type": "raw",
      "source": "Estas son 2 derivadas de primer orden que resolveremos númericamente usando el método de Euler",
      "metadata": {}
    },
    {
      "cell_type": "markdown",
      "source": "Asumamos que el movimiento es un caída libre, por lo que la aceleración es una constante, correspondiente con el valor de la gravedad, que la fijaremos en un valor de 10. Esto en las ecuaciones es a(t)=g",
      "metadata": {}
    },
    {
      "cell_type": "markdown",
      "source": "\n\n\n\nSolución Usando el método Euler el sistema",
      "metadata": {}
    },
    {
      "cell_type": "markdown",
      "source": "Algo importante es saber las condiciones iniciales. El objeto en caída libre estará inicialmente\na una altura H, y se deja caer, por lo que v(0)=0",
      "metadata": {}
    },
    {
      "cell_type": "raw",
      "source": "$\\frac{dv}{dt}=g$ \n$\\frac{dr}{dt}=v(t)$",
      "metadata": {}
    },
    {
      "cell_type": "code",
      "source": "El método como sigue a continuación también se puede ver esto como el método de diferencias finitas,\nya que convierve la derivada una resta de números, en sentido que las variaciones son muy pequeñas por lo que\nla derivación es convertida en una diferención",
      "metadata": {},
      "execution_count": null,
      "outputs": []
    },
    {
      "cell_type": "code",
      "source": "para esto se elige un dt my pequeno, que llamaremos tt, y el tiempo ahora se mide en intervalos n\ncorrespondiente al paso que llevaremos para obtener la solucion",
      "metadata": {},
      "execution_count": null,
      "outputs": []
    },
    {
      "cell_type": "code",
      "source": "v(n+1)=v(n) + (g*tt)\nr(n+1)=r(n) +  v(n)",
      "metadata": {},
      "execution_count": null,
      "outputs": []
    },
    {
      "cell_type": "code",
      "source": "con las condiciones iniciales resolvemos el sistema. Sabiendo que inicialmente estaba a una altura de H=5m\n\nHaciendo solo 10 pasos. 5/10=0.5 tt 00.5",
      "metadata": {},
      "execution_count": null,
      "outputs": []
    },
    {
      "cell_type": "code",
      "source": "v=[]\nr=[]\nv.append(0.0)\nr.append(5.0)\ntot=10 (*numero de pasos*)\ntt=(5.0/10.0)\ng=-10\nfor iii in range(1,10):\n    aux=g*(tt*iii)\n    v.append(v[iii-1]+aux)\n    r.append(r[iii-1]+(v[iii]*tt))\n    ",
      "metadata": {
        "trusted": true
      },
      "execution_count": 13,
      "outputs": []
    },
    {
      "cell_type": "code",
      "source": "print(v)\nprint(r)",
      "metadata": {
        "trusted": true
      },
      "execution_count": 14,
      "outputs": [
        {
          "name": "stdout",
          "text": "[0.0, -5.0, -15.0, -30.0, -50.0, -75.0, -105.0, -140.0, -180.0, -225.0]\n[5.0, 2.5, -5.0, -20.0, -45.0, -82.5, -135.0, -205.0, -295.0, -407.5]\n",
          "output_type": "stream"
        }
      ]
    },
    {
      "cell_type": "code",
      "source": "5.0/10\n",
      "metadata": {
        "trusted": true
      },
      "execution_count": 6,
      "outputs": [
        {
          "execution_count": 6,
          "output_type": "execute_result",
          "data": {
            "text/plain": "0.5"
          },
          "metadata": {}
        }
      ]
    },
    {
      "cell_type": "code",
      "source": "",
      "metadata": {},
      "execution_count": null,
      "outputs": []
    }
  ]
}