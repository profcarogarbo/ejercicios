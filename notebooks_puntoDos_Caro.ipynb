{
 "cells": [
  {
   "cell_type": "code",
   "execution_count": 10,
   "id": "ea50d276",
   "metadata": {},
   "outputs": [
    {
     "name": "stdout",
     "output_type": "stream",
     "text": [
      "[0.0, -0.14492753623188406, -0.4347826086956522, -0.8695652173913044, -1.4492753623188408, -2.173913043478261, -3.0434782608695654, -4.057971014492754, -5.217391304347826, -6.521739130434783, -7.971014492753624, -9.56521739130435, -11.304347826086959, -13.188405797101451, -15.217391304347828]\n",
      "[5.0, 4.997899600924176, 4.9915984036967025, 4.978996009241756, 4.9579920184835125, 4.926486032346146, 4.882377651753833, 4.82356647763075, 4.747952110901071, 4.653434152488973, 4.537912203318631, 4.39928586431422, 4.235454736399916, 4.044318420499895, 3.8237765175383323]\n",
      "velocida final -15.217391304347828\n",
      "r final 3.8237765175383323\n"
     ]
    }
   ],
   "source": [
    "v=[]\n",
    "r=[]\n",
    "v.append(0.0)\n",
    "r.append(5.0)\n",
    "tot=15 \n",
    "''' numero de pasos '''\n",
    "tt=((5.0/23.0)/15.0)\n",
    "g=-10\n",
    "for iii in range(1,tot):\n",
    "    aux=g*(tt*iii)\n",
    "    v.append(v[iii-1]+aux)\n",
    "    r.append(r[iii-1]+(v[iii]*tt))\n",
    "print(v)\n",
    "print(r)\n",
    "\n",
    "print(\"velocida final\",v[14])\n",
    "print(\"r final\",r[14])\n"
   ]
  },
  {
   "cell_type": "code",
   "execution_count": 6,
   "id": "8df97b58",
   "metadata": {},
   "outputs": [
    {
     "data": {
      "text/plain": [
       "0.21739130434782608"
      ]
     },
     "execution_count": 6,
     "metadata": {},
     "output_type": "execute_result"
    }
   ],
   "source": [
    "5/23"
   ]
  },
  {
   "cell_type": "code",
   "execution_count": 15,
   "id": "cba898b6",
   "metadata": {},
   "outputs": [
    {
     "name": "stdout",
     "output_type": "stream",
     "text": [
      "[0.0, 0.14492753623188406, 0.2898550724637681, 0.4347826086956522, 0.5797101449275363, 0.7246376811594203, 0.8695652173913043, 1.0144927536231885, 1.1594202898550725, 1.3043478260869565, 1.4492753623188406, 1.5942028985507246, 1.7391304347826086, 1.8840579710144927, 2.028985507246377]\n",
      "[5.0, 4.997899600924176, 4.993698802772527, 4.987397605545054, 4.978996009241756, 4.968494013862634, 4.955891619407688, 4.941188825876917, 4.924385633270322, 4.905482041587903, 4.884478050829659, 4.861373660995591, 4.836168872085699, 4.808863684099982, 4.77945809703844]\n",
      "velocida final 2.028985507246377\n",
      "r final 4.77945809703844\n"
     ]
    }
   ],
   "source": [
    "v=[]\n",
    "r=[]\n",
    "v.append(0.0)\n",
    "r.append(5.0)\n",
    "tot=15 \n",
    "''' numero de pasos '''\n",
    "tt=((5.0/23.0)/15.0)\n",
    "g=10\n",
    "for iii in range(1,tot):\n",
    "    aux=g*(tt)\n",
    "    v.append(v[iii-1]+aux)\n",
    "    r.append(r[iii-1]-(v[iii]*tt))\n",
    "    \n",
    "print(v)\n",
    "print(r)\n",
    "\n",
    "print(\"velocida final\",v[14])\n",
    "print(\"r final\",r[14])"
   ]
  },
  {
   "cell_type": "code",
   "execution_count": 18,
   "id": "cc96fcca",
   "metadata": {},
   "outputs": [
    {
     "name": "stdout",
     "output_type": "stream",
     "text": [
      "[0.0, 0.6666666666666666, 1.3333333333333333, 2.0, 2.6666666666666665, 3.333333333333333, 3.9999999999999996, 4.666666666666666, 5.333333333333333, 6.0, 6.666666666666667, 7.333333333333334, 8.0, 8.666666666666666, 9.333333333333332]\n",
      "[5.0, 4.955555555555556, 4.866666666666667, 4.733333333333333, 4.555555555555555, 4.333333333333333, 4.066666666666666, 3.7555555555555555, 3.4, 3.0, 2.5555555555555554, 2.0666666666666664, 1.5333333333333332, 0.9555555555555555, 0.33333333333333337]\n",
      "velocida final 9.333333333333332\n",
      "r final 0.33333333333333337\n"
     ]
    }
   ],
   "source": [
    "v=[]\n",
    "r=[]\n",
    "v.append(0.0)\n",
    "r.append(5.0)\n",
    "tot=15 \n",
    "''' numero de pasos es tot, 1.0 es sqrt(2*5.0/10)  de H= a t^2/2 ''' \n",
    "tt=(1.0/15.0)\n",
    "g=10\n",
    "for iii in range(1,tot):\n",
    "    aux=g*(tt)\n",
    "    v.append(v[iii-1]+aux)\n",
    "    r.append(r[iii-1]-(v[iii]*tt))\n",
    "    \n",
    "print(v)\n",
    "print(r)\n",
    "\n",
    "print(\"velocida final\",v[14])\n",
    "print(\"r final\",r[14])"
   ]
  },
  {
   "cell_type": "code",
   "execution_count": null,
   "id": "e9de2362",
   "metadata": {},
   "outputs": [],
   "source": []
  }
 ],
 "metadata": {
  "kernelspec": {
   "display_name": "Python 3 (ipykernel)",
   "language": "python",
   "name": "python3"
  },
  "language_info": {
   "codemirror_mode": {
    "name": "ipython",
    "version": 3
   },
   "file_extension": ".py",
   "mimetype": "text/x-python",
   "name": "python",
   "nbconvert_exporter": "python",
   "pygments_lexer": "ipython3",
   "version": "3.9.7"
  }
 },
 "nbformat": 4,
 "nbformat_minor": 5
}
