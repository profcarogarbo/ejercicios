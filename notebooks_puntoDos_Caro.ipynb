{
  "metadata": {
    "language_info": {
      "codemirror_mode": {
        "name": "python",
        "version": 3
      },
      "file_extension": ".py",
      "mimetype": "text/x-python",
      "name": "python",
      "nbconvert_exporter": "python",
      "pygments_lexer": "ipython3",
      "version": "3.8"
    },
    "kernelspec": {
      "name": "python",
      "display_name": "Python (Pyodide)",
      "language": "python"
    }
  },
  "nbformat_minor": 4,
  "nbformat": 4,
  "cells": [
    {
      "cell_type": "raw",
      "source": "Respuesta a pregunta examen de ingreso\nExamen para docentes catedra de los cursos computacionales\n 2023-01\n",
      "metadata": {}
    },
    {
      "cell_type": "raw",
      "source": " En este Notebook repasaremos el concepto de de sistemas de ecuaciones lineales, \nde su curso de algebra lineal o de antes\n\nLas ecuaciones ecuaciones que solveremos son las de Newton, para el movimiento\n\n",
      "metadata": {}
    },
    {
      "cell_type": "raw",
      "source": "Movimiento uniformemente Acelerado",
      "metadata": {}
    },
    {
      "cell_type": "raw",
      "source": "Suponga que una particula describe un movimiento descrito por las \necuaciones\n\n$\\frac{dv}{dt}=a(t)$ \n$\\frac{dr}{dt}=v(t)$",
      "metadata": {}
    },
    {
      "cell_type": "raw",
      "source": "Estas son 2 derivadas de primer orden que resolveremos númericamente usando el método de Euler",
      "metadata": {}
    },
    {
      "cell_type": "markdown",
      "source": "Asumamos que el movimiento es un caída libre, por lo que la aceleración es una constante, correspondiente con el valor de la gravedad, que la fijaremos en un valor de 10. Esto en las ecuaciones es a(t)=g",
      "metadata": {}
    },
    {
      "cell_type": "markdown",
      "source": "\n\n\n\nSolución Usando el método Euler el sistema",
      "metadata": {}
    },
    {
      "cell_type": "markdown",
      "source": "Algo importante es saber las condiciones iniciales. El objeto en caída libre estará inicialmente\na una altura H, y se deja caer, por lo que v(0)=0",
      "metadata": {}
    },
    {
      "cell_type": "raw",
      "source": "$\\frac{dv}{dt}=g$ \n$\\frac{dr}{dt}=v(t)$",
      "metadata": {}
    },
    {
      "cell_type": "code",
      "source": "El método como sigue a continuación también se puede ver esto como el método de diferencias finitas,\nya que convierve la derivada una resta de números, en sentido que las variaciones son muy pequeñas por lo que\nla derivación es convertida en una diferención",
      "metadata": {},
      "execution_count": null,
      "outputs": []
    },
    {
      "cell_type": "code",
      "source": "para esto se elige un dt my pequeno, que llamaremos tt, y el tiempo ahora se mide en intervalos n\ncorrespondiente al paso que llevaremos para obtener la solucion",
      "metadata": {},
      "execution_count": null,
      "outputs": []
    },
    {
      "cell_type": "code",
      "source": "v(n+1)=v(n) + (g*tt)\nr(n+1)=r(n) +  v(n)",
      "metadata": {},
      "execution_count": null,
      "outputs": []
    },
    {
      "cell_type": "code",
      "source": "con las condiciones iniciales resolvemos el sistema",
      "metadata": {},
      "execution_count": null,
      "outputs": []
    }
  ]
}