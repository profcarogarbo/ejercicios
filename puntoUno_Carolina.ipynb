{
  "metadata": {
    "language_info": {
      "codemirror_mode": {
        "name": "python",
        "version": 3
      },
      "file_extension": ".py",
      "mimetype": "text/x-python",
      "name": "python",
      "nbconvert_exporter": "python",
      "pygments_lexer": "ipython3",
      "version": "3.8"
    },
    "kernelspec": {
      "name": "python",
      "display_name": "Python (Pyodide)",
      "language": "python"
    }
  },
  "nbformat_minor": 4,
  "nbformat": 4,
  "cells": [
    {
      "cell_type": "raw",
      "source": "Respuesta a pregunta examen de ingreso\nExamen para docentes catedra de los cursos computacionales\n 2023-01\n",
      "metadata": {}
    },
    {
      "cell_type": "raw",
      "source": " En este Notebook repasaremos el concepto de de sistemas de ecuaciones lineales, \nde su curso de algebra lineal o de antes\n\nLas ecuaciones ecuaciones que solveremos son las de Newton, para el movimiento\n\n",
      "metadata": {}
    },
    {
      "cell_type": "raw",
      "source": "Ejemplo Ecuaciones lineales. Suponga que la relación entre el número de zorros y el número de conejos, depende de la cantidad de vegetación en una zona y de escondites, cuevas o lugares de alojamiento de dichos animales",
      "metadata": {}
    },
    {
      "cell_type": "markdown",
      "source": "\\alpha  =  a x + cy\n\\beta   =  d y - bx\n\n\\alpha, \\beta son los valores relacionadas con la cantidad y el tipo de vegetación, mientras que a,b, c, d son variables que dependen de que tan cerca están los animales de la misma especie y cuantos lugares tienen para reproducirse\n",
      "metadata": {}
    },
    {
      "cell_type": "code",
      "source": "import numpy as np",
      "metadata": {
        "trusted": true
      },
      "execution_count": 3,
      "outputs": []
    },
    {
      "cell_type": "markdown",
      "source": "suponga que las variables para los zorros es X  y  para los conejos es Y\nademás las otras constantes tambien estan especificadas, de manera que el sistema queda así:",
      "metadata": {}
    },
    {
      "cell_type": "code",
      "source": "23=2x+7y\n60=21y-3x",
      "metadata": {},
      "execution_count": null,
      "outputs": []
    },
    {
      "cell_type": "raw",
      "source": "sabemos que la solución es: por cada zorro hay 3 conejos",
      "metadata": {}
    },
    {
      "cell_type": "code",
      "source": "Método de Jacobi usando matrices,como se hace en álgebra lineal",
      "metadata": {},
      "execution_count": null,
      "outputs": []
    },
    {
      "cell_type": "code",
      "source": "'''comenzando con esta matriz y luego reduciendo renglones, hasta encontrar la columna de la derecha '''\na=[[2,7,-23],[-3,21,-72]];\nprint(a)\n",
      "metadata": {
        "trusted": true
      },
      "execution_count": 23,
      "outputs": [
        {
          "name": "stdout",
          "text": "[[2, 7, -23], [-3, 21, -72]]\n",
          "output_type": "stream"
        }
      ]
    },
    {
      "cell_type": "raw",
      "source": "Sin embargo, aquí vamos a resolver el sistemas con auda de un método que se obtiene de la librerías de Python.\n\nPara esto debemos volver a escribir nuestro sistema de euaciones, teniendo la matriz cuadrada y el vector correspondiente a los valores de los resultados en variables diferentes",
      "metadata": {}
    },
    {
      "cell_type": "markdown",
      "source": "Ahora los coeficientes de las ecuaciones estáran en una variable llamada cc\nmientras que el resultado de las ecuaciones estará en la variable dd",
      "metadata": {}
    },
    {
      "cell_type": "code",
      "source": "cc=np.array([[2,7],[-3,21,]])\ndd=np.array([23,60])\nnp.linalg.solve(cc,dd)",
      "metadata": {
        "trusted": true
      },
      "execution_count": 15,
      "outputs": [
        {
          "execution_count": 15,
          "output_type": "execute_result",
          "data": {
            "text/plain": "array([1., 3.])"
          },
          "metadata": {}
        }
      ]
    },
    {
      "cell_type": "code",
      "source": "np.linalg.inv(cc).dot(dd)",
      "metadata": {
        "trusted": true
      },
      "execution_count": 16,
      "outputs": [
        {
          "execution_count": 16,
          "output_type": "execute_result",
          "data": {
            "text/plain": "array([1., 3.])"
          },
          "metadata": {}
        }
      ]
    },
    {
      "cell_type": "markdown",
      "source": "De acuerdo a lo anterior usando la función o el método \"solve\" de la libreria \"linalg\"\ny obtenemos que el método nos regresa un arreglo que resuelve el sistema.\nEl primer número es un número negativo y no podemos tener poblaciones negativas\n\nPor esto asumimos de el valor más cercano a la primera población es 1, y por lo tanto x=1",
      "metadata": {}
    },
    {
      "cell_type": "markdown",
      "source": "y el resultado es que por cada zorro hay 3 conejos.\n\n\nTambién debemos comprobar el resultado con la otra ecuación",
      "metadata": {}
    },
    {
      "cell_type": "code",
      "source": "(2*1)+(7*3)",
      "metadata": {
        "trusted": true
      },
      "execution_count": 20,
      "outputs": [
        {
          "execution_count": 20,
          "output_type": "execute_result",
          "data": {
            "text/plain": "23"
          },
          "metadata": {}
        }
      ]
    },
    {
      "cell_type": "code",
      "source": "(21*3)-(3*1)",
      "metadata": {
        "trusted": true
      },
      "execution_count": 21,
      "outputs": [
        {
          "execution_count": 21,
          "output_type": "execute_result",
          "data": {
            "text/plain": "60"
          },
          "metadata": {}
        }
      ]
    },
    {
      "cell_type": "raw",
      "source": "En caso de obtener soluciones negativas, tendríamos que encontrar más posibles soluciones al sistema, ya que por definión del sistema de ecuaciones que estamos resolviendo no podemos tener poblaciones negativas.\nEl mínimo valor posible para nuestras variables sería cero (0).",
      "metadata": {}
    }
  ]
}